{
 "cells": [
  {
   "cell_type": "markdown",
   "id": "e495b7a9-bba2-4fd1-8026-63ef5a202626",
   "metadata": {},
   "source": [
    "Copyright (c) 2024, Krista Dotterer\n",
    "All rights reserved.\n",
    "\n",
    "This source code is licensed under the BSD-style license found in the\n",
    "LICENSE file in the root directory of this source tree. "
   ]
  },
  {
   "cell_type": "code",
   "execution_count": 1,
   "id": "surrounded-telephone",
   "metadata": {},
   "outputs": [],
   "source": [
    "#import important python packages\n",
    "\n",
    "from datetime import timedelta\n",
    "import datetime as dt\n",
    "\n",
    "import matplotlib.pyplot as plt\n",
    "\n",
    "from netCDF4 import num2date\n",
    "import numpy as np\n",
    "from scipy import signal\n",
    "import math\n",
    "import xarray as xr\n",
    "import pandas as pd\n",
    "\n",
    "import netCDF4 as n"
   ]
  },
  {
   "cell_type": "code",
   "execution_count": 9,
   "id": "advised-athens",
   "metadata": {},
   "outputs": [],
   "source": [
    "#open CLAUS-IR merged Tb data with xarray\n",
    "\n",
    "year1 = 1991\n",
    "\n",
    "claus = xr.open_dataset('/thorncroftlab_rit/kd829281/Data/CLAUS/CLAUSHarmAnom'+str(year1)+'.nc')"
   ]
  },
  {
   "cell_type": "code",
   "execution_count": 10,
   "id": "33c9943f-812a-428d-90ce-3922946133da",
   "metadata": {},
   "outputs": [],
   "source": [
    "#Convert from 0-360 to -180-180 if desired\n",
    "claus = claus.assign_coords(lon=(((claus.lon + 180) % 360) -180)).sortby('lon')"
   ]
  },
  {
   "cell_type": "code",
   "execution_count": 11,
   "id": "690d35a5-6430-43a8-b33f-6f5a92c154db",
   "metadata": {},
   "outputs": [],
   "source": [
    "claus = claus.rename({'__xarray_dataarray_variable__':'Tb'})"
   ]
  },
  {
   "cell_type": "code",
   "execution_count": 13,
   "id": "e2c2f679-c247-4747-bf94-7ceecc9b1df4",
   "metadata": {},
   "outputs": [],
   "source": [
    "#only filter certain months. Comment out if filtering the whole year\n",
    "\n",
    "# def is_amj(month):\n",
    "#     return (month >=4) & (month <=11)\n",
    "# claus = claus.sel(time=is_amj(claus['time.month']))"
   ]
  },
  {
   "cell_type": "code",
   "execution_count": 14,
   "id": "b5b794fe-bd4d-4975-b31b-520aaa94b7c6",
   "metadata": {},
   "outputs": [],
   "source": [
    "claus = claus.sortby('time')"
   ]
  },
  {
   "cell_type": "code",
   "execution_count": 16,
   "id": "necessary-chocolate",
   "metadata": {},
   "outputs": [],
   "source": [
    "# Pull out the lat and lon data\n",
    "lat = claus.lat\n",
    "lon = claus.lon\n",
    "\n",
    "# Get time into a datetime object\n",
    "time = claus.time\n",
    "Tb = claus.Tb\n",
    "Tb = Tb.fillna(0)\n",
    "Tb = Tb.transpose(\"time\", \"lat\", \"lon\")"
   ]
  },
  {
   "cell_type": "code",
   "execution_count": 17,
   "id": "870d794a-718e-4b61-abd3-f07291164d41",
   "metadata": {},
   "outputs": [],
   "source": [
    "#convert from xarray to numpy\n",
    "#Current filter function is only written for numpy arrays\n",
    "Tb=Tb.values"
   ]
  },
  {
   "cell_type": "code",
   "execution_count": 18,
   "id": "protected-exploration",
   "metadata": {},
   "outputs": [],
   "source": [
    "#define filter function\n",
    "\n",
    "# NOTE: this function is currently only tested on Kelvin waves. It is set up theoretically for other types of equatorial waves,\n",
    "# but I haven't actually tested them to see if they work. \n",
    "\n",
    "# Function based on NCL kf_filter function by Carl Schreck.\n",
    "\n",
    "def wk_filter(inData): \n",
    "\n",
    "    spd=8   # number of obs per day\n",
    "    tMin = 2.5  # minimum period\n",
    "    tMax = 20  # maximum period\n",
    "    kMin = 1 # minimum wavenumber\n",
    "    kMax = 14 # maximum wavenumber\n",
    "    hMin = 5  # minumum equivalent depth\n",
    "    hMax = 110 # maximum equivalent depth\n",
    "    waveName = \"Kelvin\" # wave type\n",
    "\n",
    "    obsPerDay = spd\n",
    "\n",
    "\n",
    "    lonDim = np.size(lon)\n",
    "    timeDim = np.size(time)\n",
    "\n",
    "\n",
    "    #figure out if data is wrapped. if it is, correct. \n",
    "    if (lon[0] + 360) == lon[lonDim-1]:\n",
    "        tempData = inData[:,1:]\n",
    "        wrapFlag = True\n",
    "    else:\n",
    "        tempData = inData\n",
    "        wrapFlag = False\n",
    "\n",
    "\n",
    "    #detrend the data\n",
    "\n",
    "    tempData = signal.detrend(tempData, type='constant') \n",
    "\n",
    "\n",
    "    #taper data using a tukey window\n",
    "\n",
    "    tlength, lonlength = np.shape(tempData)\n",
    "    twindow = signal.tukey(tlength)\n",
    "    twindow2 = np.tile(twindow, (lonlength,1))\n",
    "    twindow3 = np.transpose(twindow2)\n",
    "    tempData = twindow3 * tempData\n",
    "\n",
    "    #Fourier transform\n",
    "\n",
    "    fftData = np.fft.fft2(tempData)\n",
    "\n",
    "    truefalse = np.zeros(np.shape(fftData))\n",
    "\n",
    "    kDim, = np.shape(fftData[0,:])\n",
    "    kDim = int(kDim)\n",
    "    kDimHalf = int(kDim/2)\n",
    "    freqDim, = np.shape(fftData[:,0])\n",
    "    freqDim = int(freqDim)\n",
    "    freqDimHalf = int(freqDim/2)\n",
    "\n",
    "    #list wavenumbers in fft domain\n",
    "    ks = np.zeros(kDim)\n",
    "    ks[0:(kDimHalf+1)] = np.arange(0,kDimHalf+1)\n",
    "    ks[(kDimHalf+1):kDim] = np.arange(-(kDimHalf-1),0,1)\n",
    "\n",
    "    fMin = round((timeDim*1/(tMax*obsPerDay)))\n",
    "    fMax = round((timeDim*1/(tMin*obsPerDay)))\n",
    "    fMax = min([fMax,freqDim])\n",
    "\n",
    "    #fix the indices for the wavenumber cut-offs\n",
    "\n",
    "    wMin, = np.where(ks==kMin)\n",
    "    wMin = int(wMin)\n",
    "    wMin = min(wMin,int(kDim/2))\n",
    "\n",
    "    wMinr, = np.where(ks==(-kMin))\n",
    "    wMinr = int(wMinr)\n",
    "    wMinr = max(wMinr,int(-kDim/2))\n",
    "\n",
    "    wMax, = np.where(ks==kMax)\n",
    "    wMax = int(wMax)\n",
    "    wMax = min(wMax,int(kDim/2))\n",
    "\n",
    "    wMaxr, = np.where(ks==(-kMax))\n",
    "    wMaxr = int(wMaxr)\n",
    "    wMaxr = max(wMaxr,int(-kDim/2))\n",
    "\n",
    "\n",
    "    # set constants\n",
    "    beta = 2.28e-11\n",
    "    cMin = (9.8*hMin)**.5\n",
    "    cMax = (9.8*hMax)**.5\n",
    "    c = np.array([cMin,cMax])\n",
    "    spc = 24 * 3600./(2*np.pi*obsPerDay)\n",
    "\n",
    "    #find nondimensional wavenumbers\n",
    "    ks = ks * 1/(6.37e6) # adjusting for circumference of earth\n",
    "\n",
    "    # now set things to zero that are outside the dispersion of specified wave\n",
    "    for i in range(0,kDim):\n",
    "\n",
    "        freq = np.array([0,freqDim]) * 1/spc\n",
    "        fMinWave = 0\n",
    "        fMaxWave = freqDim\n",
    "        k = ks[i]\n",
    "        if waveName == \"Kelvin\" or waveName == \"kelvin\" or waveName == \"KELVIN\":\n",
    "            freq = k*c\n",
    "    #     if waveName == \"MRG\" or waveName == \"IG0\" or waveName == 'mrg' or waveName == \"ig0\":\n",
    "    #         if k==0:\n",
    "    #             freq = (beta*c)**.5\n",
    "    #         elif k>0:\n",
    "    #             freq = k * c * (.5 + .5*(1 + 4*beta/(k**2 * c))**.5)\n",
    "    #         elif k<0:\n",
    "    #             freq = k * c * (.5 - .5*(1 + 4*beta/(k**2 * c))**.5)\n",
    "    #     if waveName == \"IG1\" or waveName == \"ig1\":\n",
    "    #         freq = (3*beta*c + k**2 * c**2)**.5\n",
    "    #     if waveName == \"IG2\" or waveName == \"ig2\":\n",
    "    #         freq = (5*beta*c + k**2 * c**2)**.5\n",
    "\n",
    "        fMinWave = int(math.floor(freq[0]*spc*timeDim))\n",
    "        fMaxWave = int(math.ceil(freq[1]*spc*timeDim))\n",
    "\n",
    "\n",
    "        fMaxWave = max([fMaxWave,0])\n",
    "        fMinWave = min([fMinWave,freqDim])\n",
    "        fMinWave = max([fMinWave,0])\n",
    "\n",
    "        #set the appropriate coefficients to zero\n",
    "        if fMinWave>0:\n",
    "            #truefalse[:fMinWave,i] = 1\n",
    "            if fMaxWave < (freqDim -1):\n",
    "                truefalse[-(fMaxWave+1):-fMinWave,i] = 1\n",
    "\n",
    "    # now reflect\n",
    "    for i in range(0,kDim):\n",
    "\n",
    "\n",
    "        freq = np.array([0,freqDim]) * 1/spc\n",
    "        fMinWave = 0\n",
    "        fMaxWave = freqDim\n",
    "        k = ks[i]\n",
    "        if waveName == \"Kelvin\" or waveName == \"kelvin\" or waveName == \"KELVIN\":\n",
    "            freq = k*c\n",
    "    #     if waveName == \"MRG\" or waveName == \"IG0\" or waveName == 'mrg' or waveName == \"ig0\":\n",
    "    #         if k==0:\n",
    "    #             freq = (beta*c)**.5\n",
    "    #         elif k>0:\n",
    "    #             freq = k * c * (.5 + .5*(1 + 4*beta/(k**2 * c))**.5)\n",
    "    #         elif k<0:\n",
    "    #             freq = k * c * (.5 - .5*(1 + 4*beta/(k**2 * c))**.5)\n",
    "    #     if waveName == \"IG1\" or waveName == \"ig1\":\n",
    "    #         freq = (3*beta*c + k**2 * c**2)**.5\n",
    "    #     if waveName == \"IG2\" or waveName == \"ig2\":\n",
    "    #         freq = (5*beta*c + k**2 * c**2)**.5\n",
    "\n",
    "        fMinWave = int(math.floor(freq[0]*spc*timeDim))\n",
    "        fMaxWave = int(math.ceil(freq[1]*spc*timeDim))\n",
    "\n",
    "\n",
    "        fMaxWave = max([fMaxWave,0])\n",
    "        fMinWave = min([fMinWave,freqDim])\n",
    "        fMinWave = max([fMinWave,0])\n",
    "\n",
    "\n",
    "        #set the appropriate coefficients to zero\n",
    "        if fMinWave>0:\n",
    "            #truefalse[:fMinWave,i] = 1\n",
    "            if fMaxWave < (freqDim -1):\n",
    "                truefalse[fMinWave:(fMaxWave+1),-i] = 1\n",
    "\n",
    "\n",
    "\n",
    "\n",
    "    if fMin>0:\n",
    "        truefalse[0:(fMin+1),:] = 0\n",
    "        truefalse[(-fMin):(freqDim+1),:] = 0\n",
    "    else:\n",
    "        print('fMin<0 Error')\n",
    "    if fMax < (freqDim - 1):\n",
    "        truefalse[(fMax):(-fMax)+1,:] = 0\n",
    "\n",
    "    else: \n",
    "        print('fMax>freqDim Error')\n",
    "\n",
    "    if wMin<wMax:\n",
    "\n",
    "        #set things outside the range to zero, this is more normal\n",
    "        if wMin > 0:\n",
    "            truefalse[:,(wMinr):] = 0\n",
    "            truefalse[:,:(wMin+1)] = 0\n",
    "        else: \n",
    "            print('wMin>0 Error')\n",
    "        if wMax < (kDim-1):\n",
    "            truefalse[:,(wMax):(wMaxr)] = 0\n",
    "        else: \n",
    "            print('wMax>kDim Error')\n",
    "    else:\n",
    "        print('wMin>wMax Error')\n",
    "\n",
    "\n",
    "    select = np.where(truefalse==0)\n",
    "    fftData[select] = 0\n",
    "\n",
    "    #peform the inverse transform to reconstruct the data\n",
    "    \n",
    "    tempDataT = np.fft.ifft2(fftData)\n",
    "    retVal = inData\n",
    "    if wrapFlag:\n",
    "\n",
    "        retVal[:,1:lonDim] = tempDataT[:,:]\n",
    "        retVal[:,0] = retVal[:,-1]\n",
    "    if ~wrapFlag:\n",
    "        retVal[:,:] = tempDataT[:,:]\n",
    "        \n",
    "    return retVal"
   ]
  },
  {
   "cell_type": "code",
   "execution_count": 19,
   "id": "south-masters",
   "metadata": {},
   "outputs": [
    {
     "name": "stderr",
     "output_type": "stream",
     "text": [
      "/kt11/ktyle/anaconda3_2001/envs/jun20/lib/python3.7/site-packages/ipykernel_launcher.py:217: ComplexWarning: Casting complex values to real discards the imaginary part\n"
     ]
    },
    {
     "name": "stdout",
     "output_type": "stream",
     "text": [
      "81\n"
     ]
    },
    {
     "name": "stderr",
     "output_type": "stream",
     "text": [
      "/kt11/ktyle/anaconda3_2001/envs/jun20/lib/python3.7/site-packages/ipykernel_launcher.py:217: ComplexWarning: Casting complex values to real discards the imaginary part\n"
     ]
    },
    {
     "name": "stdout",
     "output_type": "stream",
     "text": [
      "81\n"
     ]
    },
    {
     "name": "stderr",
     "output_type": "stream",
     "text": [
      "/kt11/ktyle/anaconda3_2001/envs/jun20/lib/python3.7/site-packages/ipykernel_launcher.py:217: ComplexWarning: Casting complex values to real discards the imaginary part\n"
     ]
    },
    {
     "name": "stdout",
     "output_type": "stream",
     "text": [
      "81\n"
     ]
    },
    {
     "name": "stderr",
     "output_type": "stream",
     "text": [
      "/kt11/ktyle/anaconda3_2001/envs/jun20/lib/python3.7/site-packages/ipykernel_launcher.py:217: ComplexWarning: Casting complex values to real discards the imaginary part\n"
     ]
    },
    {
     "name": "stdout",
     "output_type": "stream",
     "text": [
      "81\n"
     ]
    },
    {
     "name": "stderr",
     "output_type": "stream",
     "text": [
      "/kt11/ktyle/anaconda3_2001/envs/jun20/lib/python3.7/site-packages/ipykernel_launcher.py:217: ComplexWarning: Casting complex values to real discards the imaginary part\n"
     ]
    },
    {
     "name": "stdout",
     "output_type": "stream",
     "text": [
      "81\n"
     ]
    },
    {
     "name": "stderr",
     "output_type": "stream",
     "text": [
      "/kt11/ktyle/anaconda3_2001/envs/jun20/lib/python3.7/site-packages/ipykernel_launcher.py:217: ComplexWarning: Casting complex values to real discards the imaginary part\n"
     ]
    },
    {
     "name": "stdout",
     "output_type": "stream",
     "text": [
      "81\n"
     ]
    },
    {
     "name": "stderr",
     "output_type": "stream",
     "text": [
      "/kt11/ktyle/anaconda3_2001/envs/jun20/lib/python3.7/site-packages/ipykernel_launcher.py:217: ComplexWarning: Casting complex values to real discards the imaginary part\n"
     ]
    },
    {
     "name": "stdout",
     "output_type": "stream",
     "text": [
      "81\n"
     ]
    },
    {
     "name": "stderr",
     "output_type": "stream",
     "text": [
      "/kt11/ktyle/anaconda3_2001/envs/jun20/lib/python3.7/site-packages/ipykernel_launcher.py:217: ComplexWarning: Casting complex values to real discards the imaginary part\n"
     ]
    },
    {
     "name": "stdout",
     "output_type": "stream",
     "text": [
      "81\n"
     ]
    },
    {
     "name": "stderr",
     "output_type": "stream",
     "text": [
      "/kt11/ktyle/anaconda3_2001/envs/jun20/lib/python3.7/site-packages/ipykernel_launcher.py:217: ComplexWarning: Casting complex values to real discards the imaginary part\n"
     ]
    },
    {
     "name": "stdout",
     "output_type": "stream",
     "text": [
      "81\n"
     ]
    },
    {
     "name": "stderr",
     "output_type": "stream",
     "text": [
      "/kt11/ktyle/anaconda3_2001/envs/jun20/lib/python3.7/site-packages/ipykernel_launcher.py:217: ComplexWarning: Casting complex values to real discards the imaginary part\n"
     ]
    },
    {
     "name": "stdout",
     "output_type": "stream",
     "text": [
      "81\n"
     ]
    },
    {
     "name": "stderr",
     "output_type": "stream",
     "text": [
      "/kt11/ktyle/anaconda3_2001/envs/jun20/lib/python3.7/site-packages/ipykernel_launcher.py:217: ComplexWarning: Casting complex values to real discards the imaginary part\n"
     ]
    },
    {
     "name": "stdout",
     "output_type": "stream",
     "text": [
      "81\n"
     ]
    },
    {
     "name": "stderr",
     "output_type": "stream",
     "text": [
      "/kt11/ktyle/anaconda3_2001/envs/jun20/lib/python3.7/site-packages/ipykernel_launcher.py:217: ComplexWarning: Casting complex values to real discards the imaginary part\n"
     ]
    },
    {
     "name": "stdout",
     "output_type": "stream",
     "text": [
      "81\n"
     ]
    },
    {
     "name": "stderr",
     "output_type": "stream",
     "text": [
      "/kt11/ktyle/anaconda3_2001/envs/jun20/lib/python3.7/site-packages/ipykernel_launcher.py:217: ComplexWarning: Casting complex values to real discards the imaginary part\n"
     ]
    },
    {
     "name": "stdout",
     "output_type": "stream",
     "text": [
      "81\n"
     ]
    },
    {
     "name": "stderr",
     "output_type": "stream",
     "text": [
      "/kt11/ktyle/anaconda3_2001/envs/jun20/lib/python3.7/site-packages/ipykernel_launcher.py:217: ComplexWarning: Casting complex values to real discards the imaginary part\n"
     ]
    },
    {
     "name": "stdout",
     "output_type": "stream",
     "text": [
      "81\n"
     ]
    },
    {
     "name": "stderr",
     "output_type": "stream",
     "text": [
      "/kt11/ktyle/anaconda3_2001/envs/jun20/lib/python3.7/site-packages/ipykernel_launcher.py:217: ComplexWarning: Casting complex values to real discards the imaginary part\n"
     ]
    },
    {
     "name": "stdout",
     "output_type": "stream",
     "text": [
      "81\n"
     ]
    },
    {
     "name": "stderr",
     "output_type": "stream",
     "text": [
      "/kt11/ktyle/anaconda3_2001/envs/jun20/lib/python3.7/site-packages/ipykernel_launcher.py:217: ComplexWarning: Casting complex values to real discards the imaginary part\n"
     ]
    },
    {
     "name": "stdout",
     "output_type": "stream",
     "text": [
      "81\n"
     ]
    },
    {
     "name": "stderr",
     "output_type": "stream",
     "text": [
      "/kt11/ktyle/anaconda3_2001/envs/jun20/lib/python3.7/site-packages/ipykernel_launcher.py:217: ComplexWarning: Casting complex values to real discards the imaginary part\n"
     ]
    },
    {
     "name": "stdout",
     "output_type": "stream",
     "text": [
      "81\n"
     ]
    },
    {
     "name": "stderr",
     "output_type": "stream",
     "text": [
      "/kt11/ktyle/anaconda3_2001/envs/jun20/lib/python3.7/site-packages/ipykernel_launcher.py:217: ComplexWarning: Casting complex values to real discards the imaginary part\n"
     ]
    },
    {
     "name": "stdout",
     "output_type": "stream",
     "text": [
      "81\n"
     ]
    },
    {
     "name": "stderr",
     "output_type": "stream",
     "text": [
      "/kt11/ktyle/anaconda3_2001/envs/jun20/lib/python3.7/site-packages/ipykernel_launcher.py:217: ComplexWarning: Casting complex values to real discards the imaginary part\n"
     ]
    },
    {
     "name": "stdout",
     "output_type": "stream",
     "text": [
      "81\n"
     ]
    },
    {
     "name": "stderr",
     "output_type": "stream",
     "text": [
      "/kt11/ktyle/anaconda3_2001/envs/jun20/lib/python3.7/site-packages/ipykernel_launcher.py:217: ComplexWarning: Casting complex values to real discards the imaginary part\n"
     ]
    },
    {
     "name": "stdout",
     "output_type": "stream",
     "text": [
      "81\n"
     ]
    },
    {
     "name": "stderr",
     "output_type": "stream",
     "text": [
      "/kt11/ktyle/anaconda3_2001/envs/jun20/lib/python3.7/site-packages/ipykernel_launcher.py:217: ComplexWarning: Casting complex values to real discards the imaginary part\n"
     ]
    },
    {
     "name": "stdout",
     "output_type": "stream",
     "text": [
      "81\n"
     ]
    },
    {
     "name": "stderr",
     "output_type": "stream",
     "text": [
      "/kt11/ktyle/anaconda3_2001/envs/jun20/lib/python3.7/site-packages/ipykernel_launcher.py:217: ComplexWarning: Casting complex values to real discards the imaginary part\n"
     ]
    },
    {
     "name": "stdout",
     "output_type": "stream",
     "text": [
      "81\n"
     ]
    },
    {
     "name": "stderr",
     "output_type": "stream",
     "text": [
      "/kt11/ktyle/anaconda3_2001/envs/jun20/lib/python3.7/site-packages/ipykernel_launcher.py:217: ComplexWarning: Casting complex values to real discards the imaginary part\n"
     ]
    },
    {
     "name": "stdout",
     "output_type": "stream",
     "text": [
      "81\n"
     ]
    },
    {
     "name": "stderr",
     "output_type": "stream",
     "text": [
      "/kt11/ktyle/anaconda3_2001/envs/jun20/lib/python3.7/site-packages/ipykernel_launcher.py:217: ComplexWarning: Casting complex values to real discards the imaginary part\n"
     ]
    },
    {
     "name": "stdout",
     "output_type": "stream",
     "text": [
      "81\n"
     ]
    },
    {
     "name": "stderr",
     "output_type": "stream",
     "text": [
      "/kt11/ktyle/anaconda3_2001/envs/jun20/lib/python3.7/site-packages/ipykernel_launcher.py:217: ComplexWarning: Casting complex values to real discards the imaginary part\n"
     ]
    },
    {
     "name": "stdout",
     "output_type": "stream",
     "text": [
      "81\n"
     ]
    },
    {
     "name": "stderr",
     "output_type": "stream",
     "text": [
      "/kt11/ktyle/anaconda3_2001/envs/jun20/lib/python3.7/site-packages/ipykernel_launcher.py:217: ComplexWarning: Casting complex values to real discards the imaginary part\n"
     ]
    },
    {
     "name": "stdout",
     "output_type": "stream",
     "text": [
      "81\n"
     ]
    },
    {
     "name": "stderr",
     "output_type": "stream",
     "text": [
      "/kt11/ktyle/anaconda3_2001/envs/jun20/lib/python3.7/site-packages/ipykernel_launcher.py:217: ComplexWarning: Casting complex values to real discards the imaginary part\n"
     ]
    },
    {
     "name": "stdout",
     "output_type": "stream",
     "text": [
      "81\n"
     ]
    },
    {
     "name": "stderr",
     "output_type": "stream",
     "text": [
      "/kt11/ktyle/anaconda3_2001/envs/jun20/lib/python3.7/site-packages/ipykernel_launcher.py:217: ComplexWarning: Casting complex values to real discards the imaginary part\n"
     ]
    },
    {
     "name": "stdout",
     "output_type": "stream",
     "text": [
      "81\n"
     ]
    },
    {
     "name": "stderr",
     "output_type": "stream",
     "text": [
      "/kt11/ktyle/anaconda3_2001/envs/jun20/lib/python3.7/site-packages/ipykernel_launcher.py:217: ComplexWarning: Casting complex values to real discards the imaginary part\n"
     ]
    },
    {
     "name": "stdout",
     "output_type": "stream",
     "text": [
      "81\n"
     ]
    },
    {
     "name": "stderr",
     "output_type": "stream",
     "text": [
      "/kt11/ktyle/anaconda3_2001/envs/jun20/lib/python3.7/site-packages/ipykernel_launcher.py:217: ComplexWarning: Casting complex values to real discards the imaginary part\n"
     ]
    },
    {
     "name": "stdout",
     "output_type": "stream",
     "text": [
      "81\n"
     ]
    },
    {
     "name": "stderr",
     "output_type": "stream",
     "text": [
      "/kt11/ktyle/anaconda3_2001/envs/jun20/lib/python3.7/site-packages/ipykernel_launcher.py:217: ComplexWarning: Casting complex values to real discards the imaginary part\n"
     ]
    },
    {
     "name": "stdout",
     "output_type": "stream",
     "text": [
      "81\n"
     ]
    },
    {
     "name": "stderr",
     "output_type": "stream",
     "text": [
      "/kt11/ktyle/anaconda3_2001/envs/jun20/lib/python3.7/site-packages/ipykernel_launcher.py:217: ComplexWarning: Casting complex values to real discards the imaginary part\n"
     ]
    },
    {
     "name": "stdout",
     "output_type": "stream",
     "text": [
      "81\n"
     ]
    },
    {
     "name": "stderr",
     "output_type": "stream",
     "text": [
      "/kt11/ktyle/anaconda3_2001/envs/jun20/lib/python3.7/site-packages/ipykernel_launcher.py:217: ComplexWarning: Casting complex values to real discards the imaginary part\n"
     ]
    },
    {
     "name": "stdout",
     "output_type": "stream",
     "text": [
      "81\n"
     ]
    },
    {
     "name": "stderr",
     "output_type": "stream",
     "text": [
      "/kt11/ktyle/anaconda3_2001/envs/jun20/lib/python3.7/site-packages/ipykernel_launcher.py:217: ComplexWarning: Casting complex values to real discards the imaginary part\n"
     ]
    },
    {
     "name": "stdout",
     "output_type": "stream",
     "text": [
      "81\n"
     ]
    },
    {
     "name": "stderr",
     "output_type": "stream",
     "text": [
      "/kt11/ktyle/anaconda3_2001/envs/jun20/lib/python3.7/site-packages/ipykernel_launcher.py:217: ComplexWarning: Casting complex values to real discards the imaginary part\n"
     ]
    },
    {
     "name": "stdout",
     "output_type": "stream",
     "text": [
      "81\n"
     ]
    },
    {
     "name": "stderr",
     "output_type": "stream",
     "text": [
      "/kt11/ktyle/anaconda3_2001/envs/jun20/lib/python3.7/site-packages/ipykernel_launcher.py:217: ComplexWarning: Casting complex values to real discards the imaginary part\n"
     ]
    },
    {
     "name": "stdout",
     "output_type": "stream",
     "text": [
      "81\n"
     ]
    },
    {
     "name": "stderr",
     "output_type": "stream",
     "text": [
      "/kt11/ktyle/anaconda3_2001/envs/jun20/lib/python3.7/site-packages/ipykernel_launcher.py:217: ComplexWarning: Casting complex values to real discards the imaginary part\n"
     ]
    },
    {
     "name": "stdout",
     "output_type": "stream",
     "text": [
      "81\n"
     ]
    },
    {
     "name": "stderr",
     "output_type": "stream",
     "text": [
      "/kt11/ktyle/anaconda3_2001/envs/jun20/lib/python3.7/site-packages/ipykernel_launcher.py:217: ComplexWarning: Casting complex values to real discards the imaginary part\n"
     ]
    },
    {
     "name": "stdout",
     "output_type": "stream",
     "text": [
      "81\n"
     ]
    },
    {
     "name": "stderr",
     "output_type": "stream",
     "text": [
      "/kt11/ktyle/anaconda3_2001/envs/jun20/lib/python3.7/site-packages/ipykernel_launcher.py:217: ComplexWarning: Casting complex values to real discards the imaginary part\n"
     ]
    },
    {
     "name": "stdout",
     "output_type": "stream",
     "text": [
      "81\n"
     ]
    },
    {
     "name": "stderr",
     "output_type": "stream",
     "text": [
      "/kt11/ktyle/anaconda3_2001/envs/jun20/lib/python3.7/site-packages/ipykernel_launcher.py:217: ComplexWarning: Casting complex values to real discards the imaginary part\n"
     ]
    },
    {
     "name": "stdout",
     "output_type": "stream",
     "text": [
      "81\n"
     ]
    },
    {
     "name": "stderr",
     "output_type": "stream",
     "text": [
      "/kt11/ktyle/anaconda3_2001/envs/jun20/lib/python3.7/site-packages/ipykernel_launcher.py:217: ComplexWarning: Casting complex values to real discards the imaginary part\n"
     ]
    },
    {
     "name": "stdout",
     "output_type": "stream",
     "text": [
      "81\n"
     ]
    },
    {
     "name": "stderr",
     "output_type": "stream",
     "text": [
      "/kt11/ktyle/anaconda3_2001/envs/jun20/lib/python3.7/site-packages/ipykernel_launcher.py:217: ComplexWarning: Casting complex values to real discards the imaginary part\n"
     ]
    },
    {
     "name": "stdout",
     "output_type": "stream",
     "text": [
      "81\n"
     ]
    },
    {
     "name": "stderr",
     "output_type": "stream",
     "text": [
      "/kt11/ktyle/anaconda3_2001/envs/jun20/lib/python3.7/site-packages/ipykernel_launcher.py:217: ComplexWarning: Casting complex values to real discards the imaginary part\n"
     ]
    },
    {
     "name": "stdout",
     "output_type": "stream",
     "text": [
      "81\n"
     ]
    },
    {
     "name": "stderr",
     "output_type": "stream",
     "text": [
      "/kt11/ktyle/anaconda3_2001/envs/jun20/lib/python3.7/site-packages/ipykernel_launcher.py:217: ComplexWarning: Casting complex values to real discards the imaginary part\n"
     ]
    },
    {
     "name": "stdout",
     "output_type": "stream",
     "text": [
      "81\n"
     ]
    },
    {
     "name": "stderr",
     "output_type": "stream",
     "text": [
      "/kt11/ktyle/anaconda3_2001/envs/jun20/lib/python3.7/site-packages/ipykernel_launcher.py:217: ComplexWarning: Casting complex values to real discards the imaginary part\n"
     ]
    },
    {
     "name": "stdout",
     "output_type": "stream",
     "text": [
      "81\n"
     ]
    },
    {
     "name": "stderr",
     "output_type": "stream",
     "text": [
      "/kt11/ktyle/anaconda3_2001/envs/jun20/lib/python3.7/site-packages/ipykernel_launcher.py:217: ComplexWarning: Casting complex values to real discards the imaginary part\n"
     ]
    },
    {
     "name": "stdout",
     "output_type": "stream",
     "text": [
      "81\n"
     ]
    },
    {
     "name": "stderr",
     "output_type": "stream",
     "text": [
      "/kt11/ktyle/anaconda3_2001/envs/jun20/lib/python3.7/site-packages/ipykernel_launcher.py:217: ComplexWarning: Casting complex values to real discards the imaginary part\n"
     ]
    },
    {
     "name": "stdout",
     "output_type": "stream",
     "text": [
      "81\n"
     ]
    },
    {
     "name": "stderr",
     "output_type": "stream",
     "text": [
      "/kt11/ktyle/anaconda3_2001/envs/jun20/lib/python3.7/site-packages/ipykernel_launcher.py:217: ComplexWarning: Casting complex values to real discards the imaginary part\n"
     ]
    },
    {
     "name": "stdout",
     "output_type": "stream",
     "text": [
      "81\n"
     ]
    },
    {
     "name": "stderr",
     "output_type": "stream",
     "text": [
      "/kt11/ktyle/anaconda3_2001/envs/jun20/lib/python3.7/site-packages/ipykernel_launcher.py:217: ComplexWarning: Casting complex values to real discards the imaginary part\n"
     ]
    },
    {
     "name": "stdout",
     "output_type": "stream",
     "text": [
      "81\n"
     ]
    },
    {
     "name": "stderr",
     "output_type": "stream",
     "text": [
      "/kt11/ktyle/anaconda3_2001/envs/jun20/lib/python3.7/site-packages/ipykernel_launcher.py:217: ComplexWarning: Casting complex values to real discards the imaginary part\n"
     ]
    },
    {
     "name": "stdout",
     "output_type": "stream",
     "text": [
      "81\n"
     ]
    },
    {
     "name": "stderr",
     "output_type": "stream",
     "text": [
      "/kt11/ktyle/anaconda3_2001/envs/jun20/lib/python3.7/site-packages/ipykernel_launcher.py:217: ComplexWarning: Casting complex values to real discards the imaginary part\n"
     ]
    },
    {
     "name": "stdout",
     "output_type": "stream",
     "text": [
      "81\n"
     ]
    },
    {
     "name": "stderr",
     "output_type": "stream",
     "text": [
      "/kt11/ktyle/anaconda3_2001/envs/jun20/lib/python3.7/site-packages/ipykernel_launcher.py:217: ComplexWarning: Casting complex values to real discards the imaginary part\n"
     ]
    },
    {
     "name": "stdout",
     "output_type": "stream",
     "text": [
      "81\n"
     ]
    },
    {
     "name": "stderr",
     "output_type": "stream",
     "text": [
      "/kt11/ktyle/anaconda3_2001/envs/jun20/lib/python3.7/site-packages/ipykernel_launcher.py:217: ComplexWarning: Casting complex values to real discards the imaginary part\n"
     ]
    },
    {
     "name": "stdout",
     "output_type": "stream",
     "text": [
      "81\n"
     ]
    },
    {
     "name": "stderr",
     "output_type": "stream",
     "text": [
      "/kt11/ktyle/anaconda3_2001/envs/jun20/lib/python3.7/site-packages/ipykernel_launcher.py:217: ComplexWarning: Casting complex values to real discards the imaginary part\n"
     ]
    },
    {
     "name": "stdout",
     "output_type": "stream",
     "text": [
      "81\n"
     ]
    },
    {
     "name": "stderr",
     "output_type": "stream",
     "text": [
      "/kt11/ktyle/anaconda3_2001/envs/jun20/lib/python3.7/site-packages/ipykernel_launcher.py:217: ComplexWarning: Casting complex values to real discards the imaginary part\n"
     ]
    },
    {
     "name": "stdout",
     "output_type": "stream",
     "text": [
      "81\n"
     ]
    },
    {
     "name": "stderr",
     "output_type": "stream",
     "text": [
      "/kt11/ktyle/anaconda3_2001/envs/jun20/lib/python3.7/site-packages/ipykernel_launcher.py:217: ComplexWarning: Casting complex values to real discards the imaginary part\n"
     ]
    },
    {
     "name": "stdout",
     "output_type": "stream",
     "text": [
      "81\n"
     ]
    },
    {
     "name": "stderr",
     "output_type": "stream",
     "text": [
      "/kt11/ktyle/anaconda3_2001/envs/jun20/lib/python3.7/site-packages/ipykernel_launcher.py:217: ComplexWarning: Casting complex values to real discards the imaginary part\n"
     ]
    },
    {
     "name": "stdout",
     "output_type": "stream",
     "text": [
      "81\n"
     ]
    },
    {
     "name": "stderr",
     "output_type": "stream",
     "text": [
      "/kt11/ktyle/anaconda3_2001/envs/jun20/lib/python3.7/site-packages/ipykernel_launcher.py:217: ComplexWarning: Casting complex values to real discards the imaginary part\n"
     ]
    },
    {
     "name": "stdout",
     "output_type": "stream",
     "text": [
      "81\n"
     ]
    },
    {
     "name": "stderr",
     "output_type": "stream",
     "text": [
      "/kt11/ktyle/anaconda3_2001/envs/jun20/lib/python3.7/site-packages/ipykernel_launcher.py:217: ComplexWarning: Casting complex values to real discards the imaginary part\n"
     ]
    },
    {
     "name": "stdout",
     "output_type": "stream",
     "text": [
      "81\n"
     ]
    },
    {
     "name": "stderr",
     "output_type": "stream",
     "text": [
      "/kt11/ktyle/anaconda3_2001/envs/jun20/lib/python3.7/site-packages/ipykernel_launcher.py:217: ComplexWarning: Casting complex values to real discards the imaginary part\n"
     ]
    },
    {
     "name": "stdout",
     "output_type": "stream",
     "text": [
      "81\n"
     ]
    },
    {
     "name": "stderr",
     "output_type": "stream",
     "text": [
      "/kt11/ktyle/anaconda3_2001/envs/jun20/lib/python3.7/site-packages/ipykernel_launcher.py:217: ComplexWarning: Casting complex values to real discards the imaginary part\n"
     ]
    },
    {
     "name": "stdout",
     "output_type": "stream",
     "text": [
      "81\n"
     ]
    },
    {
     "name": "stderr",
     "output_type": "stream",
     "text": [
      "/kt11/ktyle/anaconda3_2001/envs/jun20/lib/python3.7/site-packages/ipykernel_launcher.py:217: ComplexWarning: Casting complex values to real discards the imaginary part\n"
     ]
    },
    {
     "name": "stdout",
     "output_type": "stream",
     "text": [
      "81\n"
     ]
    },
    {
     "name": "stderr",
     "output_type": "stream",
     "text": [
      "/kt11/ktyle/anaconda3_2001/envs/jun20/lib/python3.7/site-packages/ipykernel_launcher.py:217: ComplexWarning: Casting complex values to real discards the imaginary part\n"
     ]
    },
    {
     "name": "stdout",
     "output_type": "stream",
     "text": [
      "81\n"
     ]
    },
    {
     "name": "stderr",
     "output_type": "stream",
     "text": [
      "/kt11/ktyle/anaconda3_2001/envs/jun20/lib/python3.7/site-packages/ipykernel_launcher.py:217: ComplexWarning: Casting complex values to real discards the imaginary part\n"
     ]
    },
    {
     "name": "stdout",
     "output_type": "stream",
     "text": [
      "81\n"
     ]
    },
    {
     "name": "stderr",
     "output_type": "stream",
     "text": [
      "/kt11/ktyle/anaconda3_2001/envs/jun20/lib/python3.7/site-packages/ipykernel_launcher.py:217: ComplexWarning: Casting complex values to real discards the imaginary part\n"
     ]
    },
    {
     "name": "stdout",
     "output_type": "stream",
     "text": [
      "81\n"
     ]
    },
    {
     "name": "stderr",
     "output_type": "stream",
     "text": [
      "/kt11/ktyle/anaconda3_2001/envs/jun20/lib/python3.7/site-packages/ipykernel_launcher.py:217: ComplexWarning: Casting complex values to real discards the imaginary part\n"
     ]
    },
    {
     "name": "stdout",
     "output_type": "stream",
     "text": [
      "81\n"
     ]
    },
    {
     "name": "stderr",
     "output_type": "stream",
     "text": [
      "/kt11/ktyle/anaconda3_2001/envs/jun20/lib/python3.7/site-packages/ipykernel_launcher.py:217: ComplexWarning: Casting complex values to real discards the imaginary part\n"
     ]
    },
    {
     "name": "stdout",
     "output_type": "stream",
     "text": [
      "81\n"
     ]
    },
    {
     "name": "stderr",
     "output_type": "stream",
     "text": [
      "/kt11/ktyle/anaconda3_2001/envs/jun20/lib/python3.7/site-packages/ipykernel_launcher.py:217: ComplexWarning: Casting complex values to real discards the imaginary part\n"
     ]
    },
    {
     "name": "stdout",
     "output_type": "stream",
     "text": [
      "81\n"
     ]
    },
    {
     "name": "stderr",
     "output_type": "stream",
     "text": [
      "/kt11/ktyle/anaconda3_2001/envs/jun20/lib/python3.7/site-packages/ipykernel_launcher.py:217: ComplexWarning: Casting complex values to real discards the imaginary part\n"
     ]
    },
    {
     "name": "stdout",
     "output_type": "stream",
     "text": [
      "81\n"
     ]
    },
    {
     "name": "stderr",
     "output_type": "stream",
     "text": [
      "/kt11/ktyle/anaconda3_2001/envs/jun20/lib/python3.7/site-packages/ipykernel_launcher.py:217: ComplexWarning: Casting complex values to real discards the imaginary part\n"
     ]
    },
    {
     "name": "stdout",
     "output_type": "stream",
     "text": [
      "81\n"
     ]
    },
    {
     "name": "stderr",
     "output_type": "stream",
     "text": [
      "/kt11/ktyle/anaconda3_2001/envs/jun20/lib/python3.7/site-packages/ipykernel_launcher.py:217: ComplexWarning: Casting complex values to real discards the imaginary part\n"
     ]
    },
    {
     "name": "stdout",
     "output_type": "stream",
     "text": [
      "81\n"
     ]
    },
    {
     "name": "stderr",
     "output_type": "stream",
     "text": [
      "/kt11/ktyle/anaconda3_2001/envs/jun20/lib/python3.7/site-packages/ipykernel_launcher.py:217: ComplexWarning: Casting complex values to real discards the imaginary part\n"
     ]
    },
    {
     "name": "stdout",
     "output_type": "stream",
     "text": [
      "81\n"
     ]
    },
    {
     "name": "stderr",
     "output_type": "stream",
     "text": [
      "/kt11/ktyle/anaconda3_2001/envs/jun20/lib/python3.7/site-packages/ipykernel_launcher.py:217: ComplexWarning: Casting complex values to real discards the imaginary part\n"
     ]
    },
    {
     "name": "stdout",
     "output_type": "stream",
     "text": [
      "81\n"
     ]
    },
    {
     "name": "stderr",
     "output_type": "stream",
     "text": [
      "/kt11/ktyle/anaconda3_2001/envs/jun20/lib/python3.7/site-packages/ipykernel_launcher.py:217: ComplexWarning: Casting complex values to real discards the imaginary part\n"
     ]
    },
    {
     "name": "stdout",
     "output_type": "stream",
     "text": [
      "81\n"
     ]
    },
    {
     "name": "stderr",
     "output_type": "stream",
     "text": [
      "/kt11/ktyle/anaconda3_2001/envs/jun20/lib/python3.7/site-packages/ipykernel_launcher.py:217: ComplexWarning: Casting complex values to real discards the imaginary part\n"
     ]
    },
    {
     "name": "stdout",
     "output_type": "stream",
     "text": [
      "81\n"
     ]
    },
    {
     "name": "stderr",
     "output_type": "stream",
     "text": [
      "/kt11/ktyle/anaconda3_2001/envs/jun20/lib/python3.7/site-packages/ipykernel_launcher.py:217: ComplexWarning: Casting complex values to real discards the imaginary part\n"
     ]
    },
    {
     "name": "stdout",
     "output_type": "stream",
     "text": [
      "81\n"
     ]
    },
    {
     "name": "stderr",
     "output_type": "stream",
     "text": [
      "/kt11/ktyle/anaconda3_2001/envs/jun20/lib/python3.7/site-packages/ipykernel_launcher.py:217: ComplexWarning: Casting complex values to real discards the imaginary part\n"
     ]
    },
    {
     "name": "stdout",
     "output_type": "stream",
     "text": [
      "81\n"
     ]
    },
    {
     "name": "stderr",
     "output_type": "stream",
     "text": [
      "/kt11/ktyle/anaconda3_2001/envs/jun20/lib/python3.7/site-packages/ipykernel_launcher.py:217: ComplexWarning: Casting complex values to real discards the imaginary part\n"
     ]
    },
    {
     "name": "stdout",
     "output_type": "stream",
     "text": [
      "81\n"
     ]
    },
    {
     "name": "stderr",
     "output_type": "stream",
     "text": [
      "/kt11/ktyle/anaconda3_2001/envs/jun20/lib/python3.7/site-packages/ipykernel_launcher.py:217: ComplexWarning: Casting complex values to real discards the imaginary part\n"
     ]
    },
    {
     "name": "stdout",
     "output_type": "stream",
     "text": [
      "81\n"
     ]
    },
    {
     "name": "stderr",
     "output_type": "stream",
     "text": [
      "/kt11/ktyle/anaconda3_2001/envs/jun20/lib/python3.7/site-packages/ipykernel_launcher.py:217: ComplexWarning: Casting complex values to real discards the imaginary part\n"
     ]
    },
    {
     "name": "stdout",
     "output_type": "stream",
     "text": [
      "81\n",
      "81\n"
     ]
    },
    {
     "name": "stderr",
     "output_type": "stream",
     "text": [
      "/kt11/ktyle/anaconda3_2001/envs/jun20/lib/python3.7/site-packages/ipykernel_launcher.py:217: ComplexWarning: Casting complex values to real discards the imaginary part\n"
     ]
    }
   ],
   "source": [
    "a,b,c = np.shape(Tb)\n",
    "\n",
    "\n",
    "Kelv = np.zeros((a,b,c))\n",
    "\n",
    "#Filter is set up to filter around one latitude circle. So, do a loop over each latitude circle in dataset.\n",
    "\n",
    "for i in range(0,b):\n",
    "\n",
    "    Kelv[:,i,:] = wk_filter(Tb[:,i,:])\n",
    "    print(b)"
   ]
  },
  {
   "cell_type": "code",
   "execution_count": 20,
   "id": "inner-update",
   "metadata": {},
   "outputs": [],
   "source": [
    "#Convert numpy array into xarray\n",
    "\n",
    "TbK = xr.DataArray(Kelv, coords=[time, lat,lon], dims=[\"time\", \"lat\", \"lon\"], name='Kelv')"
   ]
  },
  {
   "cell_type": "code",
   "execution_count": 22,
   "id": "9e3150b2-fef2-4516-a553-a3c8c2e87f63",
   "metadata": {},
   "outputs": [],
   "source": [
    "#export to NETCDF4 dataset\n",
    "TbK.to_netcdf('/thorncroftlab_rit/kd829281/Data/CLAUSTbKelvHarmAnom'+str(year1)+'_test.nc', mode='w',format='NETCDF4')"
   ]
  },
  {
   "cell_type": "code",
   "execution_count": 484,
   "id": "d4954f44-12df-4ff1-86bf-8e19cf9c75cc",
   "metadata": {},
   "outputs": [],
   "source": [
    "claus.close()"
   ]
  }
 ],
 "metadata": {
  "kernelspec": {
   "display_name": "Python 3 June 2020 Environment",
   "language": "python",
   "name": "jun20"
  },
  "language_info": {
   "codemirror_mode": {
    "name": "ipython",
    "version": 3
   },
   "file_extension": ".py",
   "mimetype": "text/x-python",
   "name": "python",
   "nbconvert_exporter": "python",
   "pygments_lexer": "ipython3",
   "version": "3.7.6"
  }
 },
 "nbformat": 4,
 "nbformat_minor": 5
}
